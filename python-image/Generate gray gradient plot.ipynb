{
 "cells": [
  {
   "cell_type": "code",
   "execution_count": 74,
   "metadata": {
    "collapsed": true
   },
   "outputs": [],
   "source": [
    "from PIL import Image, ImageDraw\n",
    "from random import randint as rint\n",
    "import numpy as np\n",
    "from matplotlib.pyplot import imshow\n",
    "%matplotlib inline"
   ]
  },
  {
   "cell_type": "markdown",
   "metadata": {},
   "source": [
    "Grayscale bar"
   ]
  },
  {
   "cell_type": "code",
   "execution_count": 86,
   "metadata": {},
   "outputs": [
    {
     "data": {
      "image/png": "[encoded data removed]",
      "text/plain": [
       "<PIL.Image.Image image mode=L size=1150x100 at 0xA3FDB70>"
      ]
     },
     "execution_count": 86,
     "metadata": {},
     "output_type": "execute_result"
    }
   ],
   "source": [
    "img = Image.new(\"L\", (1150,100), \"#FFFFFF\")\n",
    "draw = ImageDraw.Draw(img)\n",
    "scale = 255.\n",
    "for i in range(1150):\n",
    "    scale = scale - 255/1150\n",
    "    draw.line((i,0,i,100), fill=(int(scale)))\n",
    "img"
   ]
  },
  {
   "cell_type": "markdown",
   "metadata": {},
   "source": [
    "Gradient color bar"
   ]
  },
  {
   "cell_type": "code",
   "execution_count": 75,
   "metadata": {},
   "outputs": [],
   "source": [
    "img = Image.new(\"RGB\", (1150,100), \"#FFFFFF\")\n",
    "draw = ImageDraw.Draw(img)\n",
    "scale = 255.\n",
    "for i in range(1150):\n",
    "    scale = scale - 255/1150\n",
    "    draw.line((i,0,i,100), fill=(int(scale), int(scale), int(255/6*3)))"
   ]
  },
  {
   "cell_type": "code",
   "execution_count": 76,
   "metadata": {},
   "outputs": [
    {
     "data": {
      "text/plain": [
       "<matplotlib.image.AxesImage at 0x134dc860>"
      ]
     },
     "execution_count": 76,
     "metadata": {},
     "output_type": "execute_result"
    },
    {
     "data": {
      "image/png": "[encoded data removed]",
      "text/plain": [
       "<matplotlib.figure.Figure at 0x1148a048>"
      ]
     },
     "metadata": {},
     "output_type": "display_data"
    }
   ],
   "source": [
    "imshow(np.asarray(img))"
   ]
  },
  {
   "cell_type": "markdown",
   "metadata": {},
   "source": [
    "Rainbow\n",
    "\n",
    "https://www.instructables.com/id/How-to-Make-Proper-Rainbow-and-Random-Colors-With-/"
   ]
  },
  {
   "cell_type": "markdown",
   "metadata": {},
   "source": [
    "init: R-255, G-0, B-0\n",
    "Steps: G up -> R down -> B up -> G down -> R up -> B down"
   ]
  },
  {
   "cell_type": "code",
   "execution_count": 77,
   "metadata": {},
   "outputs": [],
   "source": [
    "r = 255; g = 0; b = 0\n",
    "rainbow_rgb = []\n",
    "def rgb_variant(var_color, var_direct='up'):\n",
    "    global r;global g;global b\n",
    "    for step in np.arange(255):\n",
    "        if var_direct=='up':\n",
    "            if var_color == 'r':\n",
    "                r = r + 1\n",
    "            elif var_color == 'g':\n",
    "                g = g + 1\n",
    "            else:\n",
    "                b = b + 1\n",
    "        if var_direct=='down':\n",
    "            if var_color == 'r':\n",
    "                r = r - 1\n",
    "            elif var_color == 'g':\n",
    "                g = g - 1\n",
    "            else:\n",
    "                \n",
    "                b = b - 1\n",
    "        rainbow_rgb.append([r,g,b])"
   ]
  },
  {
   "cell_type": "code",
   "execution_count": 78,
   "metadata": {},
   "outputs": [],
   "source": [
    "rgb_variant('g', 'up')\n",
    "rgb_variant('r', 'down')\n",
    "rgb_variant('b', 'up')\n",
    "rgb_variant('g', 'down')\n",
    "rgb_variant('r', 'up')\n",
    "rgb_variant('b', 'down')"
   ]
  },
  {
   "cell_type": "code",
   "execution_count": 79,
   "metadata": {},
   "outputs": [
    {
     "data": {
      "text/plain": [
       "1530"
      ]
     },
     "execution_count": 79,
     "metadata": {},
     "output_type": "execute_result"
    }
   ],
   "source": [
    "len(rainbow_rgb)"
   ]
  },
  {
   "cell_type": "code",
   "execution_count": 82,
   "metadata": {
    "collapsed": true
   },
   "outputs": [],
   "source": [
    "img = Image.new(\"RGB\", (len(rainbow_rgb),50), \"#FFFFFF\")\n",
    "draw = ImageDraw.Draw(img)\n",
    "scale = 255.\n",
    "for i in range(len(rainbow_rgb)):\n",
    "#     scale = scale - 255/1150\n",
    "    r = rainbow_rgb[i][0]\n",
    "    g = rainbow_rgb[i][1]\n",
    "    b = rainbow_rgb[i][2]\n",
    "    draw.line((i,0,i,100), fill=(r, g, b))"
   ]
  },
  {
   "cell_type": "code",
   "execution_count": 83,
   "metadata": {},
   "outputs": [
    {
     "data": {
      "text/plain": [
       "<matplotlib.image.AxesImage at 0x135f5240>"
      ]
     },
     "execution_count": 83,
     "metadata": {},
     "output_type": "execute_result"
    },
    {
     "data": {
      "image/png": "[encoded data removed]",
      "text/plain": [
       "<matplotlib.figure.Figure at 0x135ad080>"
      ]
     },
     "metadata": {},
     "output_type": "display_data"
    }
   ],
   "source": [
    "imshow(np.asarray(img))"
   ]
  }
 ],
 "metadata": {
  "kernelspec": {
   "display_name": "Python 3",
   "language": "python",
   "name": "python3"
  },
  "language_info": {
   "codemirror_mode": {
    "name": "ipython",
    "version": 3
   },
   "file_extension": ".py",
   "mimetype": "text/x-python",
   "name": "python",
   "nbconvert_exporter": "python",
   "pygments_lexer": "ipython3",
   "version": "3.6.3"
  }
 },
 "nbformat": 4,
 "nbformat_minor": 2
}
